{
 "cells": [
  {
   "cell_type": "code",
   "execution_count": null,
   "metadata": {},
   "outputs": [],
   "source": [
    "#Elena Karlsen-Ayala\n",
    "#June \n",
    "#PLEASE NOTE THAT I CHANGED MY VARIABLES IN THE CSV FILE TO BE TIME_DATE AND WATER_LEVEL!!!!\n",
    "\n"
   ]
  },
  {
   "cell_type": "code",
   "execution_count": null,
   "metadata": {},
   "outputs": [],
   "source": [
    "#Write a script that opens the file, uses a for loop to read through the file line by line and \n",
    "#reports the highest water level and the date and time that was observed."
   ]
  },
  {
   "cell_type": "code",
   "execution_count": 6,
   "metadata": {},
   "outputs": [
    {
     "name": "stdout",
     "output_type": "stream",
     "text": [
      "FYI: bad data on 10/10/18 18:18,,,1,1,1,1,p\n",
      "Highest water level was 6.647 on 10/10/18 18:06.\n"
     ]
    }
   ],
   "source": [
    "fhand = open('CO-OPS.csv')\n",
    "#print(fhand)   #you can get rid of this eventually if you don't want file name \n",
    "\n",
    "max_number = 0\n",
    "date = 0\n",
    "count = 0 \n",
    "\n",
    "fhand.readline() #this will read. the first line and move onto the second for the loop, don't necesarily need this line\n",
    "\n",
    "for line in fhand:\n",
    "    #print(line)                   #mostly a test when writing the code\n",
    "    line = line.rstrip()           #get rid of blank spaces\n",
    "    fields = line.split(\",\")       #denote that its comma separated \n",
    "    if count > 0: \n",
    "        try:\n",
    "            if float(fields[1]) > max_number:\n",
    "                max_number = float(fields[1])\n",
    "                date=fields[0]        #remember to store this number too since we want to print the date and value \n",
    "        except:\n",
    "            print(f'FYI: bad data on {line}')   #this continues the loop when we get to a line with missing data OR strings\n",
    "    count+=1\n",
    "        \n",
    "print(f'Highest water level was {max_number} on {date}.')\n",
    "    \n"
   ]
  },
  {
   "cell_type": "code",
   "execution_count": 24,
   "metadata": {},
   "outputs": [],
   "source": [
    "#Write a script that reads the file into a Pandas dataframe and reports the highest water level and \n",
    "#the date and time that was observed."
   ]
  },
  {
   "cell_type": "code",
   "execution_count": 7,
   "metadata": {},
   "outputs": [
    {
     "name": "stdout",
     "output_type": "stream",
     "text": [
      "          Date_Time  Water_Level\n",
      "421  10/10/18 18:06        6.647\n"
     ]
    }
   ],
   "source": [
    "import pandas as pd  \n",
    "\n",
    "file = \"CO-OPS.csv\"\n",
    " \n",
    "\n",
    "def read():\n",
    "    try:\n",
    "        data=pd.read_csv(file,usecols=[0,1]) \n",
    "        data.columns=data.columns.str.strip()  #remove white space from columns\n",
    "        sorted_data=data.sort_values(by=[\"Water_Level\"], ascending=False)\n",
    "        answer=sorted_data.head(1)\n",
    "        print(answer)\n",
    "    except:\n",
    "        print('Houston we have a problem')\n",
    "        exit()\n",
    "read()\n",
    "\n",
    "  \n"
   ]
  },
  {
   "cell_type": "code",
   "execution_count": null,
   "metadata": {},
   "outputs": [],
   "source": [
    "#Write a script that calculates the fastest rise in water level \n",
    "#per 6-minute period between measurements & reports the data and time that was observed \n",
    "#and the change in water level \n",
    "#during that period. You can use line by line or dataframe for this"
   ]
  },
  {
   "cell_type": "code",
   "execution_count": 8,
   "metadata": {},
   "outputs": [
    {
     "name": "stdout",
     "output_type": "stream",
     "text": [
      "Record of fastest rise in water level is:\n",
      "      Date_Time  Water_Level  Difference_Between\n",
      " 10/10/18 17:42        5.591                0.64\n"
     ]
    }
   ],
   "source": [
    "import pandas as pd        #super important never forget\n",
    "\n",
    "file = \"CO-OPS.csv\" \n",
    "\n",
    "data=pd.read_csv(file,usecols=[0,1])  #store only first and second columns when you read in the csv\n",
    "\n",
    "data.columns=data.columns.str.strip() #removes white space from column\n",
    "\n",
    "data['Difference_Between']=data.Water_Level.diff() #creates new column 'Difference_Between' and uses the diff method to calculate differences in the 'water_level' column... default value is to calc diff between previous line.\n",
    "\n",
    "sorted_data=data.sort_values(by=[\"Difference_Between\"], ascending=False) #sort values by 'Diff' column, ascending=false\n",
    "\n",
    "top_answer=sorted_data.iloc[[0]] #this is if the top value is on the first line\n",
    "\n",
    "print(\"Record of fastest rise in water level is:\")\n",
    "print(top_answer.to_string(index=False))       #this will hide row number and just print info as string"
   ]
  },
  {
   "cell_type": "code",
   "execution_count": null,
   "metadata": {},
   "outputs": [],
   "source": [
    "#Write a script that plots a line graph of water level over time using matplotlib."
   ]
  },
  {
   "cell_type": "code",
   "execution_count": 9,
   "metadata": {},
   "outputs": [
    {
     "data": {
      "image/png": "[encoded data removed]",
      "text/plain": [
       "<Figure size 432x288 with 1 Axes>"
      ]
     },
     "metadata": {
      "needs_background": "light"
     },
     "output_type": "display_data"
    },
    {
     "data": {
      "text/plain": [
       "<Figure size 432x288 with 0 Axes>"
      ]
     },
     "metadata": {},
     "output_type": "display_data"
    }
   ],
   "source": [
    "import pandas as pd\n",
    "\n",
    "from matplotlib import pyplot as plt #make sure to import this too after importing pandas \n",
    "\n",
    "sample_data = pd.read_csv('CO-OPS.csv') #read data and assign it to the variable sample_data\n",
    "\n",
    "sample_data                          #to visualize, notice I had to change the file name in order to get the variables to not have spaces \n",
    "\n",
    "sample_data.columns = sample_data.columns.str.strip()       #get rid of white spaces\n",
    "\n",
    "plt.plot(sample_data.Date_Time, sample_data.Water_Level, color='navy', linewidth=3)     #plots X,Y variables as such, increasing width to 3, and makes line navy color  \n",
    "\n",
    "plt.title(\"Water Levels Over Time\")                          #adds title\n",
    "plt.xlabel(\"Time\")\n",
    "plt.ylabel(\"Water Levels\")\n",
    "plt.legend([\"water levels\"])                                  #add legend \n",
    "plt.show()\n",
    "\n",
    "plt.savefig(\"Water.jpg\")                                     #save graph as a jPEG"
   ]
  },
  {
   "cell_type": "code",
   "execution_count": null,
   "metadata": {},
   "outputs": [],
   "source": []
  }
 ],
 "metadata": {
  "kernelspec": {
   "display_name": "Python 3.8 (full)",
   "language": "python",
   "name": "python3-3.8-ufrc"
  },
  "language_info": {
   "codemirror_mode": {
    "name": "ipython",
    "version": 3
   },
   "file_extension": ".py",
   "mimetype": "text/x-python",
   "name": "python",
   "nbconvert_exporter": "python",
   "pygments_lexer": "ipython3",
   "version": "3.8.1"
  }
 },
 "nbformat": 4,
 "nbformat_minor": 4
}
